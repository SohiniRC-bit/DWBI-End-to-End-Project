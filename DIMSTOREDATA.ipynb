{
 "cells": [
  {
   "cell_type": "code",
   "execution_count": 4,
   "id": "1d50374e",
   "metadata": {},
   "outputs": [],
   "source": [
    "import pandas as pd\n",
    "import random\n",
    "from faker import Faker\n",
    "import csv"
   ]
  },
  {
   "cell_type": "code",
   "execution_count": 5,
   "id": "24ebe358",
   "metadata": {},
   "outputs": [],
   "source": [
    "# Initialize Faker instance for generating fake data\n",
    "fake = Faker()"
   ]
  },
  {
   "cell_type": "code",
   "execution_count": 6,
   "id": "f0fdb5ac",
   "metadata": {},
   "outputs": [
    {
     "name": "stdout",
     "output_type": "stream",
     "text": [
      "Enter the number of rows to generate: 100000\n"
     ]
    }
   ],
   "source": [
    "# Input the number of rows for the CSV file\n",
    "num_rows = int(input(\"Enter the number of rows to generate: \"))"
   ]
  },
  {
   "cell_type": "code",
   "execution_count": 7,
   "id": "d6108a2e",
   "metadata": {},
   "outputs": [],
   "source": [
    "# Excel file details\n",
    "excel_file_path = r'C:/Users/sohin/DWBI Project/Look Up.xlsx'  # Update with the correct path\n",
    "sheet_name = 'Store Name Data'\n",
    "adjective_column = 'Adjectives'\n",
    "noun_column = 'Nouns'"
   ]
  },
  {
   "cell_type": "code",
   "execution_count": 8,
   "id": "67ba3fb1",
   "metadata": {},
   "outputs": [],
   "source": [
    "# Read lookup data from Excel\n",
    "df_lookup = pd.read_excel(excel_file_path, sheet_name=sheet_name)"
   ]
  },
  {
   "cell_type": "code",
   "execution_count": 9,
   "id": "4a2601fd",
   "metadata": {},
   "outputs": [],
   "source": [
    "# CSV file path\n",
    "csv_file = 'DIMSTORE.csv'"
   ]
  },
  {
   "cell_type": "code",
   "execution_count": 10,
   "id": "029a26cb",
   "metadata": {},
   "outputs": [],
   "source": [
    "# Define fieldnames (column headers)\n",
    "fieldnames = ['StoreID', 'StoreName', 'StoreType', 'StoreOpeningDate', 'Address', 'City', 'State', 'Country', 'Region', 'ManagerName']"
   ]
  },
  {
   "cell_type": "code",
   "execution_count": 11,
   "id": "6009a5e1",
   "metadata": {},
   "outputs": [
    {
     "ename": "UniquenessException",
     "evalue": "Got duplicated values after 1,000 iterations.",
     "output_type": "error",
     "traceback": [
      "\u001b[1;31m---------------------------------------------------------------------------\u001b[0m",
      "\u001b[1;31mUniquenessException\u001b[0m                       Traceback (most recent call last)",
      "\u001b[1;32m<ipython-input-11-2c6ff230da0e>\u001b[0m in \u001b[0;36m<module>\u001b[1;34m\u001b[0m\n\u001b[0;32m     15\u001b[0m         \u001b[1;31m# Generate other random data\u001b[0m\u001b[1;33m\u001b[0m\u001b[1;33m\u001b[0m\u001b[1;33m\u001b[0m\u001b[0m\n\u001b[0;32m     16\u001b[0m         row = {\n\u001b[1;32m---> 17\u001b[1;33m             \u001b[1;34m'StoreID'\u001b[0m\u001b[1;33m:\u001b[0m \u001b[0mfake\u001b[0m\u001b[1;33m.\u001b[0m\u001b[0munique\u001b[0m\u001b[1;33m.\u001b[0m\u001b[0mrandom_number\u001b[0m\u001b[1;33m(\u001b[0m\u001b[0mdigits\u001b[0m\u001b[1;33m=\u001b[0m\u001b[1;36m5\u001b[0m\u001b[1;33m)\u001b[0m\u001b[1;33m,\u001b[0m\u001b[1;33m\u001b[0m\u001b[1;33m\u001b[0m\u001b[0m\n\u001b[0m\u001b[0;32m     18\u001b[0m             \u001b[1;34m'StoreName'\u001b[0m\u001b[1;33m:\u001b[0m \u001b[0mstore_name\u001b[0m\u001b[1;33m,\u001b[0m\u001b[1;33m\u001b[0m\u001b[1;33m\u001b[0m\u001b[0m\n\u001b[0;32m     19\u001b[0m             \u001b[1;34m'StoreType'\u001b[0m\u001b[1;33m:\u001b[0m \u001b[0mrandom\u001b[0m\u001b[1;33m.\u001b[0m\u001b[0mchoice\u001b[0m\u001b[1;33m(\u001b[0m\u001b[1;33m[\u001b[0m\u001b[1;34m'Exclusive'\u001b[0m\u001b[1;33m,\u001b[0m \u001b[1;34m'MBO'\u001b[0m\u001b[1;33m,\u001b[0m \u001b[1;34m'SMB'\u001b[0m\u001b[1;33m,\u001b[0m \u001b[1;34m'Outlet Stores'\u001b[0m\u001b[1;33m]\u001b[0m\u001b[1;33m)\u001b[0m\u001b[1;33m,\u001b[0m\u001b[1;33m\u001b[0m\u001b[1;33m\u001b[0m\u001b[0m\n",
      "\u001b[1;32m~\\anaconda3\\lib\\site-packages\\faker\\proxy.py\u001b[0m in \u001b[0;36mwrapper\u001b[1;34m(*args, **kwargs)\u001b[0m\n\u001b[0;32m    339\u001b[0m                 \u001b[0mretval\u001b[0m \u001b[1;33m=\u001b[0m \u001b[0mfunction\u001b[0m\u001b[1;33m(\u001b[0m\u001b[1;33m*\u001b[0m\u001b[0margs\u001b[0m\u001b[1;33m,\u001b[0m \u001b[1;33m**\u001b[0m\u001b[0mkwargs\u001b[0m\u001b[1;33m)\u001b[0m\u001b[1;33m\u001b[0m\u001b[1;33m\u001b[0m\u001b[0m\n\u001b[0;32m    340\u001b[0m             \u001b[1;32melse\u001b[0m\u001b[1;33m:\u001b[0m\u001b[1;33m\u001b[0m\u001b[1;33m\u001b[0m\u001b[0m\n\u001b[1;32m--> 341\u001b[1;33m                 \u001b[1;32mraise\u001b[0m \u001b[0mUniquenessException\u001b[0m\u001b[1;33m(\u001b[0m\u001b[1;34mf\"Got duplicated values after {_UNIQUE_ATTEMPTS:,} iterations.\"\u001b[0m\u001b[1;33m)\u001b[0m\u001b[1;33m\u001b[0m\u001b[1;33m\u001b[0m\u001b[0m\n\u001b[0m\u001b[0;32m    342\u001b[0m \u001b[1;33m\u001b[0m\u001b[0m\n\u001b[0;32m    343\u001b[0m             \u001b[0mgenerated\u001b[0m\u001b[1;33m.\u001b[0m\u001b[0madd\u001b[0m\u001b[1;33m(\u001b[0m\u001b[0mretval\u001b[0m\u001b[1;33m)\u001b[0m\u001b[1;33m\u001b[0m\u001b[1;33m\u001b[0m\u001b[0m\n",
      "\u001b[1;31mUniquenessException\u001b[0m: Got duplicated values after 1,000 iterations."
     ]
    }
   ],
   "source": [
    "# Open CSV file and write data\n",
    "with open(csv_file, mode='w', newline='') as file:  # File is opened here\n",
    "    writer = csv.DictWriter(file, fieldnames=fieldnames)\n",
    "    \n",
    "    # Write header\n",
    "    writer.writeheader()\n",
    "\n",
    "    # Generate multiple rows\n",
    "    for _ in range(num_rows):\n",
    "        # Select a random adjective and noun for store name\n",
    "        adjective = random.choice(df_lookup[adjective_column].dropna().tolist())\n",
    "        noun = random.choice(df_lookup[noun_column].dropna().tolist())\n",
    "        store_name = f\"The {adjective} {noun}\"\n",
    "\n",
    "        # Generate other random data\n",
    "        row = {\n",
    "            'StoreID': fake.unique.random_number(digits=5),\n",
    "            'StoreName': store_name,\n",
    "            'StoreType': random.choice(['Exclusive', 'MBO', 'SMB', 'Outlet Stores']),\n",
    "            'StoreOpeningDate': fake.date_this_decade(),\n",
    "            'Address': fake.address().replace('\\n', ' '),\n",
    "            'City': fake.city(),\n",
    "            'State': fake.state(),\n",
    "            'Country': fake.country(),\n",
    "            'Region': random.choice(['North', 'South', 'East', 'West']),\n",
    "            'ManagerName': fake.name()\n",
    "        }\n",
    "\n",
    "        # Write a single row to the CSV (Must be inside `with open`)\n",
    "        writer.writerow(row)  "
   ]
  },
  {
   "cell_type": "code",
   "execution_count": null,
   "id": "3a87ebac",
   "metadata": {},
   "outputs": [],
   "source": [
    "print(f\"Successfully generated {num_rows} rows and saved to {csv_file}\")"
   ]
  },
  {
   "cell_type": "code",
   "execution_count": 21,
   "id": "e1522813",
   "metadata": {},
   "outputs": [
    {
     "ename": "ValueError",
     "evalue": "I/O operation on closed file.",
     "output_type": "error",
     "traceback": [
      "\u001b[1;31m---------------------------------------------------------------------------\u001b[0m",
      "\u001b[1;31mValueError\u001b[0m                                Traceback (most recent call last)",
      "\u001b[1;32m<ipython-input-21-519dbc0208c6>\u001b[0m in \u001b[0;36m<module>\u001b[1;34m\u001b[0m\n\u001b[0;32m     14\u001b[0m \u001b[1;33m\u001b[0m\u001b[0m\n\u001b[0;32m     15\u001b[0m         \u001b[1;31m# Write a single row to the CSV (Must be inside `with open`)\u001b[0m\u001b[1;33m\u001b[0m\u001b[1;33m\u001b[0m\u001b[1;33m\u001b[0m\u001b[0m\n\u001b[1;32m---> 16\u001b[1;33m \u001b[0mwriter\u001b[0m\u001b[1;33m.\u001b[0m\u001b[0mwriterow\u001b[0m\u001b[1;33m(\u001b[0m\u001b[0mrow\u001b[0m\u001b[1;33m)\u001b[0m\u001b[1;33m\u001b[0m\u001b[1;33m\u001b[0m\u001b[0m\n\u001b[0m",
      "\u001b[1;32m~\\anaconda3\\lib\\csv.py\u001b[0m in \u001b[0;36mwriterow\u001b[1;34m(self, rowdict)\u001b[0m\n\u001b[0;32m    152\u001b[0m \u001b[1;33m\u001b[0m\u001b[0m\n\u001b[0;32m    153\u001b[0m     \u001b[1;32mdef\u001b[0m \u001b[0mwriterow\u001b[0m\u001b[1;33m(\u001b[0m\u001b[0mself\u001b[0m\u001b[1;33m,\u001b[0m \u001b[0mrowdict\u001b[0m\u001b[1;33m)\u001b[0m\u001b[1;33m:\u001b[0m\u001b[1;33m\u001b[0m\u001b[1;33m\u001b[0m\u001b[0m\n\u001b[1;32m--> 154\u001b[1;33m         \u001b[1;32mreturn\u001b[0m \u001b[0mself\u001b[0m\u001b[1;33m.\u001b[0m\u001b[0mwriter\u001b[0m\u001b[1;33m.\u001b[0m\u001b[0mwriterow\u001b[0m\u001b[1;33m(\u001b[0m\u001b[0mself\u001b[0m\u001b[1;33m.\u001b[0m\u001b[0m_dict_to_list\u001b[0m\u001b[1;33m(\u001b[0m\u001b[0mrowdict\u001b[0m\u001b[1;33m)\u001b[0m\u001b[1;33m)\u001b[0m\u001b[1;33m\u001b[0m\u001b[1;33m\u001b[0m\u001b[0m\n\u001b[0m\u001b[0;32m    155\u001b[0m \u001b[1;33m\u001b[0m\u001b[0m\n\u001b[0;32m    156\u001b[0m     \u001b[1;32mdef\u001b[0m \u001b[0mwriterows\u001b[0m\u001b[1;33m(\u001b[0m\u001b[0mself\u001b[0m\u001b[1;33m,\u001b[0m \u001b[0mrowdicts\u001b[0m\u001b[1;33m)\u001b[0m\u001b[1;33m:\u001b[0m\u001b[1;33m\u001b[0m\u001b[1;33m\u001b[0m\u001b[0m\n",
      "\u001b[1;31mValueError\u001b[0m: I/O operation on closed file."
     ]
    }
   ],
   "source": []
  },
  {
   "cell_type": "code",
   "execution_count": null,
   "id": "8b784919",
   "metadata": {},
   "outputs": [],
   "source": []
  }
 ],
 "metadata": {
  "kernelspec": {
   "display_name": "Python 3",
   "language": "python",
   "name": "python3"
  },
  "language_info": {
   "codemirror_mode": {
    "name": "ipython",
    "version": 3
   },
   "file_extension": ".py",
   "mimetype": "text/x-python",
   "name": "python",
   "nbconvert_exporter": "python",
   "pygments_lexer": "ipython3",
   "version": "3.8.8"
  }
 },
 "nbformat": 4,
 "nbformat_minor": 5
}
