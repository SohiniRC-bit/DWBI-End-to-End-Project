{
 "cells": [
  {
   "cell_type": "code",
   "execution_count": 1,
   "id": "179868ee",
   "metadata": {},
   "outputs": [
    {
     "name": "stdout",
     "output_type": "stream",
     "text": [
      "Requirement already satisfied: faker in c:\\users\\sohin\\anaconda3\\lib\\site-packages (35.2.2)\n",
      "Requirement already satisfied: python-dateutil>=2.4 in c:\\users\\sohin\\anaconda3\\lib\\site-packages (from faker) (2.8.1)\n",
      "Requirement already satisfied: typing-extensions in c:\\users\\sohin\\anaconda3\\lib\\site-packages (from faker) (4.11.0)\n",
      "Requirement already satisfied: six>=1.5 in c:\\users\\sohin\\anaconda3\\lib\\site-packages (from python-dateutil>=2.4->faker) (1.15.0)\n"
     ]
    },
    {
     "name": "stderr",
     "output_type": "stream",
     "text": [
      "WARNING: You are using pip version 22.0.4; however, version 25.0.1 is available.\n",
      "You should consider upgrading via the 'C:\\Users\\sohin\\anaconda3\\python.exe -m pip install --upgrade pip' command.\n"
     ]
    }
   ],
   "source": [
    "!pip install faker"
   ]
  },
  {
   "cell_type": "code",
   "execution_count": 2,
   "id": "a7e5a3d0",
   "metadata": {},
   "outputs": [],
   "source": [
    "from faker import Faker\n",
    "import random\n",
    "import pandas as pd\n",
    "import csv"
   ]
  },
  {
   "cell_type": "code",
   "execution_count": 3,
   "id": "c0d6baa2",
   "metadata": {},
   "outputs": [],
   "source": [
    "fake = Faker()"
   ]
  },
  {
   "cell_type": "code",
   "execution_count": 8,
   "id": "c181f475",
   "metadata": {},
   "outputs": [],
   "source": [
    "# Define the columns for the DIMCUSTOMER data\n",
    "columns = [\n",
    "    \"CustomerID\", \"FirstName\", \"LastName\", \"Gender\", \"DOB\", \"Email\",\"PhoneNumber\", \"Address\",\n",
    "    \"City\", \"State\", \"ZipCode\", \"Country\", \"LoyaltyInfoID\"\n",
    "]"
   ]
  },
  {
   "cell_type": "code",
   "execution_count": 9,
   "id": "844c5d3a",
   "metadata": {},
   "outputs": [
    {
     "name": "stdout",
     "output_type": "stream",
     "text": [
      "Enter the number of rows: 10000\n",
      "Enter the name of the CSV file (including .csv extension): DimCustomerData.csv\n"
     ]
    }
   ],
   "source": [
    "# Input: Number of rows and CSV file name\n",
    "num_rows = int(input(\"Enter the number of rows: \"))\n",
    "csv_file = input(\"Enter the name of the CSV file (including .csv extension): \")"
   ]
  },
  {
   "cell_type": "code",
   "execution_count": 10,
   "id": "b3007c07",
   "metadata": {},
   "outputs": [],
   "source": [
    "# Create a list to hold all the customer data rows\n",
    "customer_data = []"
   ]
  },
  {
   "cell_type": "code",
   "execution_count": 12,
   "id": "b4a62fb8",
   "metadata": {},
   "outputs": [],
   "source": [
    "# Step 1: Generate rows of data\n",
    "for _ in range(num_rows):\n",
    "    customer_data.append([\n",
    "        fake.unique.random_number(digits=6),  # CustomerID: Random 6-digit number\n",
    "        fake.first_name(),  # FirstName: Random first name\n",
    "        fake.last_name(),  # LastName: Random last name\n",
    "        random.choice([\"M\", \"F\", \"Others\", \"Not Specified\"]),  # Gender\n",
    "        fake.date_of_birth(minimum_age=18, maximum_age=80).strftime(\"%Y-%m-%d\"),  # DOB\n",
    "        fake.email(),  # Email: Random email\n",
    "        fake.phone_number(), #random phone no\n",
    "        fake.address().replace(\"\\n\", \", \"),  # Address (single line)\n",
    "        fake.city(),  # City\n",
    "        fake.state(),  # State\n",
    "        fake.zipcode(),  # ZipCode\n",
    "        fake.country(),  # Country\n",
    "        random.randint(1, 5)  # LoyaltyInfoID: Random value between 1 and 5\n",
    "    ])"
   ]
  },
  {
   "cell_type": "code",
   "execution_count": 13,
   "id": "ee056945",
   "metadata": {},
   "outputs": [],
   "source": [
    "# Step 2: Create a DataFrame from the customer data\n",
    "df = pd.DataFrame(customer_data, columns=columns)"
   ]
  },
  {
   "cell_type": "code",
   "execution_count": 14,
   "id": "5be61d71",
   "metadata": {},
   "outputs": [],
   "source": [
    "# Step 3: Write the DataFrame to a CSV file\n",
    "df.to_csv('DimCustomerData.csv', index=False)"
   ]
  },
  {
   "cell_type": "code",
   "execution_count": 15,
   "id": "a22889fb",
   "metadata": {},
   "outputs": [
    {
     "name": "stdout",
     "output_type": "stream",
     "text": [
      "Successfully generated 10000 rows of customer data and saved to DimCustomerData.csv\n"
     ]
    }
   ],
   "source": [
    "# Step 4: Print success statement\n",
    "print(f\"Successfully generated {num_rows} rows of customer data and saved to {csv_file}\")"
   ]
  },
  {
   "cell_type": "code",
   "execution_count": null,
   "id": "990c79b9",
   "metadata": {},
   "outputs": [],
   "source": []
  },
  {
   "cell_type": "code",
   "execution_count": null,
   "id": "7c144594",
   "metadata": {},
   "outputs": [],
   "source": []
  }
 ],
 "metadata": {
  "kernelspec": {
   "display_name": "Python 3",
   "language": "python",
   "name": "python3"
  },
  "language_info": {
   "codemirror_mode": {
    "name": "ipython",
    "version": 3
   },
   "file_extension": ".py",
   "mimetype": "text/x-python",
   "name": "python",
   "nbconvert_exporter": "python",
   "pygments_lexer": "ipython3",
   "version": "3.8.8"
  }
 },
 "nbformat": 4,
 "nbformat_minor": 5
}
